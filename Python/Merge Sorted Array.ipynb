{
 "cells": [
  {
   "cell_type": "markdown",
   "id": "b8c299de-80f3-471e-8719-ce25ba8348da",
   "metadata": {},
   "source": [
    "You are given two integer arrays nums1 and nums2, sorted in non-decreasing order, and two integers m and n, representing the number of elements in nums1 and nums2 respectively.\n",
    "\n",
    "Merge nums1 and nums2 into a single array sorted in non-decreasing order.\n",
    "\n",
    "The final sorted array should not be returned by the function, but instead be stored inside the array nums1. To accommodate this, nums1 has a length of m + n, where the first m elements denote the elements that should be merged, and the last n elements are set to 0 and should be ignored. nums2 has a length of n.\n",
    "\n"
   ]
  },
  {
   "cell_type": "code",
   "execution_count": 35,
   "id": "0e01f9d1-22f6-41c3-8ab1-f1eb77b01c41",
   "metadata": {},
   "outputs": [],
   "source": [
    "# not in place solution\n",
    "\n",
    "import numpy as np\n",
    "def sorting_not_in_place(nums1,nums2):\n",
    "    nums1 = [d for d in nums1 if d != 0]\n",
    "    ans = []\n",
    "    if len(nums1) == 0:\n",
    "        ans.append(0)\n",
    "    else:\n",
    "        nums2 = [d for d in nums2 if d != 0]\n",
    "        for i in range(len(nums2)):\n",
    "            nums1.append(nums2[i])\n",
    "\n",
    "        ans = list(np.sort(nums1))\n",
    "    \n",
    "    \n",
    "    return ans\n",
    "    \n",
    "\n",
    "# in place solution\n",
    "def sorting_not_in_place(nums1,nums2,m,n):\n",
    "    return \n",
    "    "
   ]
  },
  {
   "cell_type": "code",
   "execution_count": 36,
   "id": "2b2414be-3347-4098-8d02-e2e85535946f",
   "metadata": {},
   "outputs": [
    {
     "data": {
      "text/plain": [
       "[1, 2, 2, 3, 5, 6]"
      ]
     },
     "execution_count": 36,
     "metadata": {},
     "output_type": "execute_result"
    }
   ],
   "source": [
    "nums1 = [1,2,3,0,0,0]\n",
    "nums2 = [2,5,6]"
   ]
  },
  {
   "cell_type": "code",
   "execution_count": 12,
   "id": "2716ff1b-4121-451d-ad2d-3c9131fc8ba5",
   "metadata": {},
   "outputs": [
    {
     "data": {
      "text/plain": [
       "array([1, 2, 2, 3, 5, 6])"
      ]
     },
     "execution_count": 12,
     "metadata": {},
     "output_type": "execute_result"
    }
   ],
   "source": []
  },
  {
   "cell_type": "code",
   "execution_count": null,
   "id": "bbdbabbf-214f-4e24-ae62-e7c8bce0c899",
   "metadata": {},
   "outputs": [],
   "source": []
  }
 ],
 "metadata": {
  "kernelspec": {
   "display_name": "Python 3 (ipykernel)",
   "language": "python",
   "name": "python3"
  },
  "language_info": {
   "codemirror_mode": {
    "name": "ipython",
    "version": 3
   },
   "file_extension": ".py",
   "mimetype": "text/x-python",
   "name": "python",
   "nbconvert_exporter": "python",
   "pygments_lexer": "ipython3",
   "version": "3.11.5"
  }
 },
 "nbformat": 4,
 "nbformat_minor": 5
}
