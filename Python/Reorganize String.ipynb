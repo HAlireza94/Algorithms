{
 "cells": [
  {
   "cell_type": "code",
   "execution_count": 7,
   "id": "bf1dbefd-7e93-43b0-87d3-e5915afd4cf8",
   "metadata": {},
   "outputs": [
    {
     "name": "stdout",
     "output_type": "stream",
     "text": [
      "aba\n"
     ]
    }
   ],
   "source": [
    "from collections import Counter\n",
    "import heapq\n",
    "\n",
    "def reorganizeString(s):\n",
    "    \n",
    "    freq_map = Counter(s)\n",
    "    \n",
    "    max_heap = [(-freq, char) for char, freq in freq_map.items()]\n",
    "    heapq.heapify(max_heap)    \n",
    "    result = []\n",
    "    prev_freq, prev_char = 0, \"\"\n",
    "    \n",
    "    while max_heap:\n",
    "        \n",
    "        freq, char = heapq.heappop(max_heap)\n",
    "        result.append(char)\n",
    "        \n",
    "        if prev_freq < 0:\n",
    "            heapq.heappush(max_heap, (prev_freq, prev_char))\n",
    "        \n",
    "        \n",
    "        prev_freq, prev_char = freq + 1, char \n",
    "    \n",
    "    \n",
    "    return \"\".join(result) if len(result) == len(s) else \"\"\n",
    "\n",
    "\n",
    "s = \"aab\"\n",
    "print(reorganizeString(s))  \n"
   ]
  },
  {
   "cell_type": "code",
   "execution_count": null,
   "id": "d0de5f34-8b62-435f-9d57-8b36802c4f16",
   "metadata": {},
   "outputs": [],
   "source": []
  }
 ],
 "metadata": {
  "kernelspec": {
   "display_name": "Python 3 (ipykernel)",
   "language": "python",
   "name": "python3"
  },
  "language_info": {
   "codemirror_mode": {
    "name": "ipython",
    "version": 3
   },
   "file_extension": ".py",
   "mimetype": "text/x-python",
   "name": "python",
   "nbconvert_exporter": "python",
   "pygments_lexer": "ipython3",
   "version": "3.11.5"
  }
 },
 "nbformat": 4,
 "nbformat_minor": 5
}
