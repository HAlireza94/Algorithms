{
 "cells": [
  {
   "cell_type": "code",
   "execution_count": 26,
   "id": "2483d9b9-dedb-458d-b7a5-5d9713e9ead9",
   "metadata": {},
   "outputs": [
    {
     "name": "stdout",
     "output_type": "stream",
     "text": [
      "Kth smallest = 7\n",
      "Kth longest = 10\n"
     ]
    }
   ],
   "source": [
    "import numpy as np\n",
    "def small_identifier(n,k):\n",
    "    N = np.sort(n)\n",
    "    return N[k-1]\n",
    "\n",
    "def long_identifier(n,k):\n",
    "    N = np.sort(n)[::-1]\n",
    "    return N[k-1]\n",
    "n = [7, 10, 4, 3, 20, 15]\n",
    "k = 3\n",
    "print(\"Kth smallest = \" + str(small_identifier(n,k)))\n",
    "print(\"Kth longest = \" + str(long_identifier(n,k)))"
   ]
  }
 ],
 "metadata": {
  "kernelspec": {
   "display_name": "Python 3 (ipykernel)",
   "language": "python",
   "name": "python3"
  },
  "language_info": {
   "codemirror_mode": {
    "name": "ipython",
    "version": 3
   },
   "file_extension": ".py",
   "mimetype": "text/x-python",
   "name": "python",
   "nbconvert_exporter": "python",
   "pygments_lexer": "ipython3",
   "version": "3.11.5"
  }
 },
 "nbformat": 4,
 "nbformat_minor": 5
}
