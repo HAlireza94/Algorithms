{
 "cells": [
  {
   "cell_type": "markdown",
   "id": "26585b78-4aa6-4304-9165-c23ca28848d6",
   "metadata": {},
   "source": [
    "Given a 2-D String array of student-marks find the student with the highest average and output his average score. If the average is in decimals, floor it down to the nearest integer."
   ]
  },
  {
   "cell_type": "code",
   "execution_count": 69,
   "id": "ca197a8d-9175-4eec-b916-a0e23389b3e9",
   "metadata": {},
   "outputs": [
    {
     "name": "stdout",
     "output_type": "stream",
     "text": [
      "Jessica 99.0\n"
     ]
    }
   ],
   "source": [
    "import pandas as pd\n",
    "import numpy as np\n",
    "\n",
    "def cleaning(raw):\n",
    "    data = []\n",
    "    for i in range(len(raw)):\n",
    "        data.append(list(raw[i]))\n",
    "\n",
    "    name, av_score = [], []\n",
    "\n",
    "    for i in range(len(data)):\n",
    "        if data[i][1].isdigit() == True:\n",
    "            av_score.append(float(data[i][1]))\n",
    "            name.append(data[i][0])\n",
    "        elif data[i][0].isdigit() == True:\n",
    "            av_score.append(float(data[i][0]))\n",
    "            name.append(data[i][1])\n",
    "\n",
    "    df=pd.DataFrame({'name':name,'<score>':av_score})\n",
    "    grouped = df.groupby('name')['<score>'].mean()\n",
    "    return print(f\"{grouped.idxmax():<4} {np.floor(grouped.max()):<4}\")\n",
    "\n",
    "raw=[{\"Bob\",\"87\"}, {\"Mike\", \"35\"},{\"Bob\", \"52\"}, {\"Jason\",\"35\"}, {\"Mike\", \"55\"}, {\"Jessica\", \"99\"}]\n",
    "cleaning(raw)\n"
   ]
  }
 ],
 "metadata": {
  "kernelspec": {
   "display_name": "Python 3 (ipykernel)",
   "language": "python",
   "name": "python3"
  },
  "language_info": {
   "codemirror_mode": {
    "name": "ipython",
    "version": 3
   },
   "file_extension": ".py",
   "mimetype": "text/x-python",
   "name": "python",
   "nbconvert_exporter": "python",
   "pygments_lexer": "ipython3",
   "version": "3.11.5"
  }
 },
 "nbformat": 4,
 "nbformat_minor": 5
}
