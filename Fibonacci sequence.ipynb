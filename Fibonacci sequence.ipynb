{
 "cells": [
  {
   "cell_type": "code",
   "execution_count": 16,
   "id": "71c6175e-536b-439c-8e83-9b4a76468b3e",
   "metadata": {},
   "outputs": [
    {
     "data": {
      "text/plain": [
       "array([[ 0.],\n",
       "       [ 1.],\n",
       "       [ 1.],\n",
       "       [ 2.],\n",
       "       [ 3.],\n",
       "       [ 5.],\n",
       "       [ 8.],\n",
       "       [13.],\n",
       "       [21.],\n",
       "       [34.],\n",
       "       [55.]])"
      ]
     },
     "execution_count": 16,
     "metadata": {},
     "output_type": "execute_result"
    }
   ],
   "source": [
    "import numpy as np\n",
    "def feb(n):\n",
    "    y=np.zeros([n+1,1])\n",
    "    for i in range(n+1):\n",
    "        if i == 0:\n",
    "            y[i] = 0\n",
    "        if i == 1:\n",
    "            y[i] = 1\n",
    "        else:\n",
    "            y[i] = y[i-1] + y[i-2]\n",
    "\n",
    "    return y\n",
    "\n",
    "\n",
    "n = 10\n",
    "feb(n)"
   ]
  },
  {
   "cell_type": "code",
   "execution_count": null,
   "id": "861c76a2-f175-4e6b-92d5-005267d0f311",
   "metadata": {},
   "outputs": [],
   "source": []
  }
 ],
 "metadata": {
  "kernelspec": {
   "display_name": "Python 3 (ipykernel)",
   "language": "python",
   "name": "python3"
  },
  "language_info": {
   "codemirror_mode": {
    "name": "ipython",
    "version": 3
   },
   "file_extension": ".py",
   "mimetype": "text/x-python",
   "name": "python",
   "nbconvert_exporter": "python",
   "pygments_lexer": "ipython3",
   "version": "3.11.5"
  }
 },
 "nbformat": 4,
 "nbformat_minor": 5
}
