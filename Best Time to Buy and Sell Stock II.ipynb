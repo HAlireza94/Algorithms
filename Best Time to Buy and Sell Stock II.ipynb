{
 "cells": [
  {
   "cell_type": "code",
   "execution_count": 25,
   "id": "85e7cb04-d33b-4819-98f8-8cfe8eeb126e",
   "metadata": {},
   "outputs": [
    {
     "name": "stdout",
     "output_type": "stream",
     "text": [
      "Maximum Profit: 4\n"
     ]
    }
   ],
   "source": [
    "def profit(prices):\n",
    "    prof = 0\n",
    "    for i in range(1,len(prices)):\n",
    "        if prices[i] > prices[i-1]:\n",
    "            prof += prices[i] - prices[i-1]\n",
    "    return prof\n",
    "# prices = [7,6,4,3,1]\n",
    "prices = [1,2,3,4,5]\n",
    "# prices = [7, 1, 5, 3, 6, 4]\n",
    "print(\"Maximum Profit:\", profit(prices))  "
   ]
  },
  {
   "cell_type": "code",
   "execution_count": 24,
   "id": "7150e44c-c70a-4797-a838-46275b41c527",
   "metadata": {},
   "outputs": [
    {
     "name": "stdout",
     "output_type": "stream",
     "text": [
      "Maximum Profit: 4\n"
     ]
    }
   ],
   "source": [
    "\n"
   ]
  },
  {
   "cell_type": "code",
   "execution_count": null,
   "id": "733b948f-079e-45a3-8779-a6c62a7893a6",
   "metadata": {},
   "outputs": [],
   "source": []
  }
 ],
 "metadata": {
  "kernelspec": {
   "display_name": "Python 3 (ipykernel)",
   "language": "python",
   "name": "python3"
  },
  "language_info": {
   "codemirror_mode": {
    "name": "ipython",
    "version": 3
   },
   "file_extension": ".py",
   "mimetype": "text/x-python",
   "name": "python",
   "nbconvert_exporter": "python",
   "pygments_lexer": "ipython3",
   "version": "3.11.5"
  }
 },
 "nbformat": 4,
 "nbformat_minor": 5
}
