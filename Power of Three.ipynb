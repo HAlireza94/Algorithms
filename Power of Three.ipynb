{
 "cells": [
  {
   "cell_type": "markdown",
   "id": "12ca62cd-55db-4cb5-af03-9af4f4637ee5",
   "metadata": {},
   "source": [
    "Given an integer n, return true if it is a power of three. Otherwise, return false.\n",
    "\n",
    "An integer n is a power of three, if there exists an integer x such that n == $3^{x}$."
   ]
  },
  {
   "cell_type": "code",
   "execution_count": 53,
   "id": "90b08712-99a4-4a33-97d0-975ef7f53600",
   "metadata": {},
   "outputs": [
    {
     "name": "stdout",
     "output_type": "stream",
     "text": [
      "false\n"
     ]
    }
   ],
   "source": [
    "import numpy as np\n",
    "def identifier(n):\n",
    "    y = (np.log(n)/np.log(3))\n",
    "    check_y = round(y)\n",
    "    if y.is_integer() or abs(y-check_y) < 10e-11:\n",
    "        x = print('true')\n",
    "    else:\n",
    "        x = print('false')\n",
    "    return x\n",
    "\n",
    "n = 1162261466\n",
    "identifier(n)"
   ]
  }
 ],
 "metadata": {
  "kernelspec": {
   "display_name": "Python 3 (ipykernel)",
   "language": "python",
   "name": "python3"
  },
  "language_info": {
   "codemirror_mode": {
    "name": "ipython",
    "version": 3
   },
   "file_extension": ".py",
   "mimetype": "text/x-python",
   "name": "python",
   "nbconvert_exporter": "python",
   "pygments_lexer": "ipython3",
   "version": "3.11.5"
  }
 },
 "nbformat": 4,
 "nbformat_minor": 5
}
