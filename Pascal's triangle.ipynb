{
 "cells": [
  {
   "cell_type": "code",
   "execution_count": 72,
   "id": "e72b39cf-bab4-4fb0-84ee-7f04d6998bac",
   "metadata": {},
   "outputs": [],
   "source": [
    "import numpy as np\n",
    "def PascalTriangle(rowIndex):\n",
    "    n=rowIndex\n",
    "    N1 = []\n",
    "    for i in range(n+1):\n",
    "        N2 = []\n",
    "        if i == 0:\n",
    "            N2.append(1)\n",
    "        elif i == 1:\n",
    "            for j in range(i+1):\n",
    "                N2.append(1)\n",
    "    \n",
    "    \n",
    "        elif i > 1:\n",
    "            m=i-1 # n-1 meaning n is 2\n",
    "            num = len(N1[m])\n",
    "            \n",
    "            for k in range(num+1):\n",
    "                if k == 0:\n",
    "                    N2.append(1)\n",
    "                elif k == num:\n",
    "                    N2.append(1)\n",
    "                else:\n",
    "                    N2.append(N1[m][k-1]+N1[m][k])\n",
    "    \n",
    "        N1.append(N2)\n",
    "    return N1[rowIndex]"
   ]
  }
 ],
 "metadata": {
  "kernelspec": {
   "display_name": "Python 3 (ipykernel)",
   "language": "python",
   "name": "python3"
  },
  "language_info": {
   "codemirror_mode": {
    "name": "ipython",
    "version": 3
   },
   "file_extension": ".py",
   "mimetype": "text/x-python",
   "name": "python",
   "nbconvert_exporter": "python",
   "pygments_lexer": "ipython3",
   "version": "3.11.5"
  }
 },
 "nbformat": 4,
 "nbformat_minor": 5
}
