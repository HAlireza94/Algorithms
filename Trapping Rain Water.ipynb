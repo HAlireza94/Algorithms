{
 "cells": [
  {
   "cell_type": "code",
   "execution_count": 78,
   "id": "fe97a15e-0674-4d99-88c7-e1a5fc9ffd89",
   "metadata": {},
   "outputs": [
    {
     "name": "stdout",
     "output_type": "stream",
     "text": [
      "trapped water = 9.0\n"
     ]
    }
   ],
   "source": [
    "import numpy as np\n",
    "\n",
    "\n",
    "def trap(height):\n",
    "    maxlefts, maxrights = np.zeros([len(height),1]), np.zeros([len(height),1])\n",
    "    maxlefts[0] = height[0]\n",
    "    maxrights[len(height)-1] = height[len(height)-1]\n",
    "    i, j = 1, len(height)-2\n",
    "    while i < len(height):\n",
    "        maxlefts[i] = max(maxlefts[i-1],height[i])\n",
    "        maxrights[j] = max(maxrights[j+1],height[j])\n",
    "        i+=1\n",
    "        j-=1\n",
    "    sum = 0\n",
    "    for i in range(len(height)):\n",
    "        sum += max(0,min(maxlefts[i],maxrights[i])-height[i])\n",
    "    return sum[0]\n",
    "\n",
    "\n",
    "\n",
    "# height = [0,1,0,2,1,0,1,3,2,1,2,1]\n",
    "height = [4,2,0,3,2,5]\n",
    "print(\"trapped water = \" +str(trap(height)))\n"
   ]
  },
  {
   "cell_type": "code",
   "execution_count": null,
   "id": "ec035df2-51fe-45b1-982a-fd11d46ab84a",
   "metadata": {},
   "outputs": [],
   "source": []
  }
 ],
 "metadata": {
  "kernelspec": {
   "display_name": "Python 3 (ipykernel)",
   "language": "python",
   "name": "python3"
  },
  "language_info": {
   "codemirror_mode": {
    "name": "ipython",
    "version": 3
   },
   "file_extension": ".py",
   "mimetype": "text/x-python",
   "name": "python",
   "nbconvert_exporter": "python",
   "pygments_lexer": "ipython3",
   "version": "3.11.5"
  }
 },
 "nbformat": 4,
 "nbformat_minor": 5
}
